{
 "cells": [
  {
   "cell_type": "markdown",
   "id": "bb0cfcd4",
   "metadata": {},
   "source": [
    "\n",
    "# 🌍 Tutorial 02 — Time Series Analysis\n",
    "\n",
    "In this notebook, you’ll learn how to work with **time-series data from ERA5** using `xarray`.\n",
    "We will:\n",
    "- Extract data for a specific location\n",
    "- Explore temporal patterns\n",
    "- Compute basic statistics\n",
    "- Visualize results with line plots\n",
    "\n",
    "> **Prerequisites:**\n",
    "> - Completed Tutorial 01\n",
    "> - Environment with `xarray` and `matplotlib`\n",
    "> - ERA5 test dataset at `data/era5_sample.nc`\n"
   ]
  },
  {
   "cell_type": "markdown",
   "id": "3b399de2",
   "metadata": {},
   "source": [
    "## 1. Open the Dataset"
   ]
  },
  {
   "cell_type": "code",
   "execution_count": null,
   "id": "30f56e5e",
   "metadata": {},
   "outputs": [],
   "source": [
    "\n",
    "import xarray as xr\n",
    "import matplotlib.pyplot as plt\n",
    "\n",
    "# Open dataset\n",
    "ds = xr.open_dataset(\"data/era5_sample.nc\")\n",
    "ds\n"
   ]
  },
  {
   "cell_type": "markdown",
   "id": "a92461cb",
   "metadata": {},
   "source": [
    "## 2. Select a Variable and Location"
   ]
  },
  {
   "cell_type": "code",
   "execution_count": null,
   "id": "070c9500",
   "metadata": {},
   "outputs": [],
   "source": [
    "\n",
    "# Select 2m temperature\n",
    "t2m = ds['t2m']\n",
    "\n",
    "# Example location: Athens, Greece (lat=37.98, lon=23.72)\n",
    "t2m_point = t2m.sel(latitude=37.98, longitude=23.72, method=\"nearest\")\n",
    "t2m_point\n"
   ]
  },
  {
   "cell_type": "markdown",
   "id": "16062bdb",
   "metadata": {},
   "source": [
    "## 3. Plot the Time Series"
   ]
  },
  {
   "cell_type": "code",
   "execution_count": null,
   "id": "ed8f5982",
   "metadata": {},
   "outputs": [],
   "source": [
    "\n",
    "t2m_point.plot(marker=\"o\", linestyle=\"-\", figsize=(10,4))\n",
    "plt.title(\"ERA5 2m Temperature at Athens\")\n",
    "plt.ylabel(\"Temperature (K)\")\n",
    "plt.xlabel(\"Time\")\n",
    "plt.show()\n"
   ]
  },
  {
   "cell_type": "markdown",
   "id": "4c8767d9",
   "metadata": {},
   "source": [
    "## 4. Compute Basic Statistics"
   ]
  },
  {
   "cell_type": "code",
   "execution_count": null,
   "id": "5e3b7938",
   "metadata": {},
   "outputs": [],
   "source": [
    "\n",
    "print(\"Mean Temperature:\", float(t2m_point.mean()))\n",
    "print(\"Max Temperature:\", float(t2m_point.max()))\n",
    "print(\"Min Temperature:\", float(t2m_point.min()))\n"
   ]
  },
  {
   "cell_type": "markdown",
   "id": "cc25004a",
   "metadata": {},
   "source": [
    "## 5. Compute Anomalies"
   ]
  },
  {
   "cell_type": "code",
   "execution_count": null,
   "id": "29df5bc8",
   "metadata": {},
   "outputs": [],
   "source": [
    "\n",
    "t2m_anomaly = t2m_point - t2m_point.mean()\n",
    "\n",
    "t2m_anomaly.plot(figsize=(10,4))\n",
    "plt.title(\"Temperature Anomalies (Athens)\")\n",
    "plt.ylabel(\"Anomaly (K)\")\n",
    "plt.xlabel(\"Time\")\n",
    "plt.show()\n"
   ]
  },
  {
   "cell_type": "markdown",
   "id": "ade28d60",
   "metadata": {},
   "source": [
    "## 6. Regional Average (Optional)"
   ]
  },
  {
   "cell_type": "code",
   "execution_count": null,
   "id": "0d8f06d0",
   "metadata": {},
   "outputs": [],
   "source": [
    "\n",
    "# Greece region: lat 34–42, lon 19–28\n",
    "t2m_region = t2m.sel(latitude=slice(42, 34), longitude=slice(19, 28))\n",
    "t2m_mean = t2m_region.mean(dim=[\"latitude\", \"longitude\"])\n",
    "\n",
    "t2m_mean.plot(figsize=(10,4))\n",
    "plt.title(\"Regional Mean 2m Temperature (Greece)\")\n",
    "plt.ylabel(\"Temperature (K)\")\n",
    "plt.xlabel(\"Time\")\n",
    "plt.show()\n"
   ]
  },
  {
   "cell_type": "markdown",
   "id": "4e2dbd4a",
   "metadata": {},
   "source": [
    "\n",
    "---\n",
    "\n",
    "## ✅ Summary\n",
    "- Extracted a point time series using `.sel(latitude=..., longitude=..., method=\"nearest\")`\n",
    "- Plotted the time series and computed mean, min, and max\n",
    "- Calculated and plotted anomalies\n",
    "- (Optional) Computed a regional mean time series\n",
    "\n",
    "**Next:** Proceed to Tutorial 03 — Preprocessing for Machine Learning.\n"
   ]
  }
 ],
 "metadata": {
  "kernelspec": {
   "display_name": "Python 3",
   "language": "python",
   "name": "python3"
  },
  "language_info": {
   "name": "python"
  }
 },
 "nbformat": 4,
 "nbformat_minor": 5
}
