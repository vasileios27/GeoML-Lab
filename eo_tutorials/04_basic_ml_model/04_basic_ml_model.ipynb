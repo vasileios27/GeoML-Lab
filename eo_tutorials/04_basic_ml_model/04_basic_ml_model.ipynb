{
 "cells": [
  {
   "cell_type": "markdown",
   "id": "a38bd6df",
   "metadata": {},
   "source": [
    "\n",
    "# 🤖 Tutorial 04 — Basic ML Model (PyTorch)\n",
    "\n",
    "We train a simple **MLP** on the arrays produced in Tutorial 03 to predict `t2m`.\n"
   ]
  },
  {
   "cell_type": "markdown",
   "id": "f4b132d2",
   "metadata": {},
   "source": [
    "## 0. Imports & device"
   ]
  },
  {
   "cell_type": "code",
   "execution_count": null,
   "id": "b8dc145e",
   "metadata": {},
   "outputs": [],
   "source": [
    "\n",
    "import os\n",
    "from pathlib import Path\n",
    "import math\n",
    "import numpy as np\n",
    "import matplotlib.pyplot as plt\n",
    "\n",
    "import torch\n",
    "from torch import nn\n",
    "from torch.utils.data import TensorDataset, DataLoader\n",
    "\n",
    "# Paths\n",
    "DATA_DIR = Path(\"data/processed\")\n",
    "FIG_DIR = Path(\"figures\"); FIG_DIR.mkdir(parents=True, exist_ok=True)\n",
    "MODEL_DIR = Path(\"models\"); MODEL_DIR.mkdir(parents=True, exist_ok=True)\n",
    "\n",
    "# Device\n",
    "device = torch.device(\"cuda\" if torch.cuda.is_available() else \"cpu\")\n",
    "print(\"Using device:\", device)\n",
    "torch.__version__\n"
   ]
  },
  {
   "cell_type": "markdown",
   "id": "7fa42cb3",
   "metadata": {},
   "source": [
    "## 1. Load preprocessed arrays"
   ]
  },
  {
   "cell_type": "code",
   "execution_count": null,
   "id": "8d52f7bd",
   "metadata": {},
   "outputs": [],
   "source": [
    "\n",
    "X_train = np.load(DATA_DIR / \"X_train.npy\")\n",
    "y_train = np.load(DATA_DIR / \"y_train.npy\")\n",
    "X_val   = np.load(DATA_DIR / \"X_val.npy\")\n",
    "y_val   = np.load(DATA_DIR / \"y_val.npy\")\n",
    "X_test  = np.load(DATA_DIR / \"X_test.npy\")\n",
    "y_test  = np.load(DATA_DIR / \"y_test.npy\")\n",
    "\n",
    "stats = np.load(DATA_DIR / \"stats.npz\")\n",
    "print(\"Loaded shapes:\")\n",
    "print(\"  X_train\", X_train.shape, \"y_train\", y_train.shape)\n",
    "print(\"  X_val  \", X_val.shape,   \"y_val\",   y_val.shape)\n",
    "print(\"  X_test \", X_test.shape,  \"y_test\",  y_test.shape)\n",
    "print(\"Feature means:\", stats['mu'].ravel())\n",
    "print(\"Feature stds :\", stats['sigma'].ravel())\n",
    "print(\"Lags used    :\", stats['lags'])\n"
   ]
  },
  {
   "cell_type": "markdown",
   "id": "913bcc57",
   "metadata": {},
   "source": [
    "## 2. Build PyTorch datasets & loaders"
   ]
  },
  {
   "cell_type": "code",
   "execution_count": null,
   "id": "c00586d4",
   "metadata": {},
   "outputs": [],
   "source": [
    "\n",
    "# Convert to tensors\n",
    "X_train_t = torch.tensor(X_train, dtype=torch.float32)\n",
    "y_train_t = torch.tensor(y_train, dtype=torch.float32).unsqueeze(1)\n",
    "X_val_t   = torch.tensor(X_val,   dtype=torch.float32)\n",
    "y_val_t   = torch.tensor(y_val,   dtype=torch.float32).unsqueeze(1)\n",
    "X_test_t  = torch.tensor(X_test,  dtype=torch.float32)\n",
    "y_test_t  = torch.tensor(y_test,  dtype=torch.float32).unsqueeze(1)\n",
    "\n",
    "train_ds = TensorDataset(X_train_t, y_train_t)\n",
    "val_ds   = TensorDataset(X_val_t,   y_val_t)\n",
    "test_ds  = TensorDataset(X_test_t,  y_test_t)\n",
    "\n",
    "BATCH_SIZE = 2048\n",
    "train_loader = DataLoader(train_ds, batch_size=BATCH_SIZE, shuffle=True, drop_last=False)\n",
    "val_loader   = DataLoader(val_ds,   batch_size=BATCH_SIZE, shuffle=False, drop_last=False)\n",
    "test_loader  = DataLoader(test_ds,  batch_size=BATCH_SIZE, shuffle=False, drop_last=False)\n",
    "\n",
    "X_train_t.shape, y_train_t.shape\n"
   ]
  },
  {
   "cell_type": "markdown",
   "id": "a512a73d",
   "metadata": {},
   "source": [
    "## 3. Define a simple MLP model"
   ]
  },
  {
   "cell_type": "code",
   "execution_count": null,
   "id": "63623e04",
   "metadata": {},
   "outputs": [],
   "source": [
    "\n",
    "input_dim = X_train.shape[1]\n",
    "hidden_dim = 128\n",
    "dropout_p = 0.1\n",
    "\n",
    "class MLP(nn.Module):\n",
    "    def __init__(self, in_dim, hidden=128, dropout=0.0):\n",
    "        super().__init__()\n",
    "        self.net = nn.Sequential(\n",
    "            nn.Linear(in_dim, hidden),\n",
    "            nn.ReLU(),\n",
    "            nn.Dropout(dropout),\n",
    "            nn.Linear(hidden, hidden),\n",
    "            nn.ReLU(),\n",
    "            nn.Dropout(dropout),\n",
    "            nn.Linear(hidden, 1),\n",
    "        )\n",
    "    def forward(self, x):\n",
    "        return self.net(x)\n",
    "\n",
    "model = MLP(input_dim, hidden=hidden_dim, dropout=dropout_p).to(device)\n",
    "model\n"
   ]
  },
  {
   "cell_type": "markdown",
   "id": "395fb95f",
   "metadata": {},
   "source": [
    "## 4. Train with early stopping"
   ]
  },
  {
   "cell_type": "code",
   "execution_count": null,
   "id": "e6ab1551",
   "metadata": {},
   "outputs": [],
   "source": [
    "\n",
    "criterion = torch.nn.MSELoss()\n",
    "optimizer = torch.optim.Adam(model.parameters(), lr=1e-3, weight_decay=1e-5)\n",
    "\n",
    "EPOCHS = 50\n",
    "PATIENCE = 5\n",
    "\n",
    "best_val = float('inf')\n",
    "best_state = None\n",
    "train_losses, val_losses = [], []\n",
    "no_improve = 0\n",
    "\n",
    "for epoch in range(1, EPOCHS+1):\n",
    "    # Train\n",
    "    model.train()\n",
    "    running = 0.0\n",
    "    for xb, yb in train_loader:\n",
    "        xb, yb = xb.to(device), yb.to(device)\n",
    "        optimizer.zero_grad()\n",
    "        preds = model(xb)\n",
    "        loss = criterion(preds, yb)\n",
    "        loss.backward()\n",
    "        optimizer.step()\n",
    "        running += loss.item() * xb.size(0)\n",
    "    train_loss = running / len(train_loader.dataset)\n",
    "    train_losses.append(train_loss)\n",
    "\n",
    "    # Validate\n",
    "    model.eval()\n",
    "    running = 0.0\n",
    "    with torch.no_grad():\n",
    "        for xb, yb in val_loader:\n",
    "            xb, yb = xb.to(device), yb.to(device)\n",
    "            preds = model(xb)\n",
    "            loss = criterion(preds, yb)\n",
    "            running += loss.item() * xb.size(0)\n",
    "    val_loss = running / len(val_loader.dataset)\n",
    "    val_losses.append(val_loss)\n",
    "\n",
    "    print(f\"Epoch {epoch:03d} | train {train_loss:.6f} | val {val_loss:.6f}\")\n",
    "\n",
    "    # Early stopping\n",
    "    if val_loss < best_val - 1e-6:\n",
    "        best_val = val_loss\n",
    "        best_state = model.state_dict()\n",
    "        no_improve = 0\n",
    "    else:\n",
    "        no_improve += 1\n",
    "        if no_improve >= PATIENCE:\n",
    "            print(\"Early stopping triggered.\")\n",
    "            break\n",
    "\n",
    "# Load best model\n",
    "if best_state is not None:\n",
    "    model.load_state_dict(best_state)\n"
   ]
  },
  {
   "cell_type": "markdown",
   "id": "3de7e7bc",
   "metadata": {},
   "source": [
    "## 5. Plot loss curves"
   ]
  },
  {
   "cell_type": "code",
   "execution_count": null,
   "id": "602e3dd4",
   "metadata": {},
   "outputs": [],
   "source": [
    "\n",
    "plt.figure(figsize=(8,4))\n",
    "plt.plot(train_losses, label=\"train\")\n",
    "plt.plot(val_losses, label=\"val\")\n",
    "plt.title(\"Loss curves (MSE)\")\n",
    "plt.xlabel(\"Epoch\")\n",
    "plt.ylabel(\"MSE\")\n",
    "plt.legend()\n",
    "plt.tight_layout()\n",
    "plt.savefig(\"figures/loss_curve.png\", dpi=150)\n",
    "plt.show()\n"
   ]
  },
  {
   "cell_type": "markdown",
   "id": "e4f12f86",
   "metadata": {},
   "source": [
    "## 6. Evaluate on the test set"
   ]
  },
  {
   "cell_type": "code",
   "execution_count": null,
   "id": "fa42c30d",
   "metadata": {},
   "outputs": [],
   "source": [
    "\n",
    "model.eval()\n",
    "preds_all = []\n",
    "targets_all = []\n",
    "with torch.no_grad():\n",
    "    for xb, yb in test_loader:\n",
    "        xb = xb.to(device)\n",
    "        out = model(xb).cpu().numpy().ravel()\n",
    "        preds_all.append(out)\n",
    "        targets_all.append(yb.numpy().ravel())\n",
    "\n",
    "y_pred = np.concatenate(preds_all)\n",
    "y_true = np.concatenate(targets_all)\n",
    "\n",
    "mse = float(np.mean((y_pred - y_true)**2))\n",
    "rmse = float(np.sqrt(mse))\n",
    "mae = float(np.mean(np.abs(y_pred - y_true)))\n",
    "\n",
    "print(f\"Test MSE : {mse:.6f}\")\n",
    "print(f\"Test RMSE: {rmse:.6f}\")\n",
    "print(f\"Test MAE : {mae:.6f}\")\n"
   ]
  },
  {
   "cell_type": "markdown",
   "id": "4b3f9b22",
   "metadata": {},
   "source": [
    "## 7. Predicted vs True scatter"
   ]
  },
  {
   "cell_type": "code",
   "execution_count": null,
   "id": "3ef48f0b",
   "metadata": {},
   "outputs": [],
   "source": [
    "\n",
    "# Sample up to 5000 points for plotting\n",
    "n = y_true.shape[0]\n",
    "idx = np.random.choice(n, size=min(5000, n), replace=False) if n > 5000 else np.arange(n)\n",
    "\n",
    "plt.figure(figsize=(5,5))\n",
    "plt.scatter(y_true[idx], y_pred[idx], s=5, alpha=0.5)\n",
    "plt.plot([y_true[idx].min(), y_true[idx].max()], [y_true[idx].min(), y_true[idx].max()])\n",
    "plt.xlabel(\"True\")\n",
    "plt.ylabel(\"Predicted\")\n",
    "plt.title(\"Predicted vs True\")\n",
    "plt.tight_layout()\n",
    "plt.savefig(\"figures/pred_vs_true.png\", dpi=150)\n",
    "plt.show()\n"
   ]
  },
  {
   "cell_type": "markdown",
   "id": "e0ce0349",
   "metadata": {},
   "source": [
    "## 8. Save model and predictions"
   ]
  },
  {
   "cell_type": "code",
   "execution_count": null,
   "id": "c213a203",
   "metadata": {},
   "outputs": [],
   "source": [
    "\n",
    "model_path = Path(\"models/mlp_t2m.pt\")\n",
    "torch.save(model.state_dict(), model_path)\n",
    "np.save(DATA_DIR / \"y_pred_test.npy\", y_pred)\n",
    "print(\"Saved model to\", model_path)\n",
    "print(\"Saved predictions to\", DATA_DIR / \"y_pred_test.npy\")\n"
   ]
  },
  {
   "cell_type": "markdown",
   "id": "896696af",
   "metadata": {},
   "source": [
    "## 9. Inference example"
   ]
  },
  {
   "cell_type": "code",
   "execution_count": null,
   "id": "da284867",
   "metadata": {},
   "outputs": [],
   "source": [
    "\n",
    "def predict(model, X_np, batch_size=4096):\n",
    "    model.eval()\n",
    "    preds = []\n",
    "    with torch.no_grad():\n",
    "        for i in range(0, X_np.shape[0], batch_size):\n",
    "            xb = torch.tensor(X_np[i:i+batch_size], dtype=torch.float32, device=device)\n",
    "            out = model(xb).cpu().numpy().ravel()\n",
    "            preds.append(out)\n",
    "    return np.concatenate(preds)\n",
    "\n",
    "# Example: predict on the first 100 standardized samples of the test set\n",
    "demo_preds = predict(model, X_test[:100])\n",
    "demo_preds[:10]\n"
   ]
  },
  {
   "cell_type": "markdown",
   "id": "9014e90f",
   "metadata": {},
   "source": [
    "\n",
    "---\n",
    "\n",
    "## ✅ You trained your first EO ML model!\n",
    "- Built and trained an **MLP** with PyTorch\n",
    "- Used **early stopping** and evaluated on a held-out test set\n",
    "- Visualized training dynamics and prediction quality\n",
    "- Saved the model and predictions for later use\n",
    "\n",
    "**Next idea:** Add more variables (winds, humidity), engineer features, or try CNNs on gridded data.\n"
   ]
  }
 ],
 "metadata": {
  "kernelspec": {
   "display_name": "Python 3",
   "language": "python",
   "name": "python3"
  },
  "language_info": {
   "name": "python"
  }
 },
 "nbformat": 4,
 "nbformat_minor": 5
}
