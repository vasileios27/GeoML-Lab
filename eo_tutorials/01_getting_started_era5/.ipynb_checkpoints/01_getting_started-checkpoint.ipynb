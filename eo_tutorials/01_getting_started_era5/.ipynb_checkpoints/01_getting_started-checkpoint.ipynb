{
 "cells": [
  {
   "cell_type": "markdown",
   "id": "efde5f9f",
   "metadata": {},
   "source": [
    "\n",
    "# 🌍 Tutorial 01 — Getting Started with Earth Observation (EO) in Python\n",
    "\n",
    "Welcome! This notebook is the companion to **Tutorial 01**. You'll explore an ERA5 sample file using **xarray** and make your first plot.\n",
    "\n",
    "> **Prerequisites** (already done in the README):\n",
    "> - Create and activate a virtual environment with `venv`\n",
    "> - Install packages: `pip install xarray netCDF4 matplotlib notebook`\n",
    "> - Ensure the sample file exists at: `data/era5_sample.nc`\n"
   ]
  },
  {
   "cell_type": "markdown",
   "id": "2c14ac31",
   "metadata": {},
   "source": [
    "## 0. Verify your environment"
   ]
  },
  {
   "cell_type": "code",
   "execution_count": null,
   "id": "0df5a867",
   "metadata": {},
   "outputs": [],
   "source": [
    "\n",
    "import sys, subprocess\n",
    "\n",
    "def pkg_ver(name):\n",
    "    try:\n",
    "        mod = __import__(name)\n",
    "        return getattr(mod, \"__version__\", \"unknown\")\n",
    "    except Exception as e:\n",
    "        return f\"not found ({e})\"\n",
    "\n",
    "print(\"Python:\", sys.version.split()[0])\n",
    "print(\"xarray:\", pkg_ver(\"xarray\"))\n",
    "print(\"netCDF4:\", pkg_ver(\"netCDF4\"))\n",
    "print(\"matplotlib:\", pkg_ver(\"matplotlib\"))\n"
   ]
  },
  {
   "cell_type": "markdown",
   "id": "283d1fb8",
   "metadata": {},
   "source": [
    "## 1. Open the ERA5 dataset"
   ]
  },
  {
   "cell_type": "code",
   "execution_count": null,
   "id": "5707b27f",
   "metadata": {},
   "outputs": [],
   "source": [
    "\n",
    "import xarray as xr\n",
    "import matplotlib.pyplot as plt\n",
    "\n",
    "DATA_PATH = \"data/era5_sample.nc\"  # adjust if needed\n",
    "\n",
    "ds = xr.open_dataset(DATA_PATH)\n",
    "ds\n"
   ]
  },
  {
   "cell_type": "markdown",
   "id": "b9b51703",
   "metadata": {},
   "source": [
    "## 2. Explore variables, dimensions, and coordinates"
   ]
  },
  {
   "cell_type": "code",
   "execution_count": null,
   "id": "6862a92a",
   "metadata": {},
   "outputs": [],
   "source": [
    "\n",
    "print(\"\\n=== Dataset summary ===\")\n",
    "print(ds)\n",
    "\n",
    "print(\"\\n=== Data variables ===\")\n",
    "print(ds.data_vars)\n",
    "\n",
    "print(\"\\n=== Coordinates ===\")\n",
    "print(ds.coords)\n",
    "\n",
    "print(\"\\n=== Global attributes ===\")\n",
    "print(ds.attrs)\n"
   ]
  },
  {
   "cell_type": "markdown",
   "id": "cb390e2a",
   "metadata": {},
   "source": [
    "## 3. Inspect the time dimension"
   ]
  },
  {
   "cell_type": "code",
   "execution_count": null,
   "id": "09e64320",
   "metadata": {},
   "outputs": [],
   "source": [
    "\n",
    "times = ds.time.values\n",
    "print(\"Number of timesteps:\", ds.dims.get(\"time\", 0))\n",
    "if len(times) > 0:\n",
    "    print(\"First time:\", times[0])\n",
    "    print(\"Last  time:\", times[-1])\n",
    "    # Show first 5 timestamps for reference\n",
    "    print(\"Sample times:\", times[:5])\n"
   ]
  },
  {
   "cell_type": "markdown",
   "id": "6d18bd3b",
   "metadata": {},
   "source": [
    "## 4. Inspect a variable (2m temperature `t2m`)"
   ]
  },
  {
   "cell_type": "code",
   "execution_count": null,
   "id": "3ada1707",
   "metadata": {},
   "outputs": [],
   "source": [
    "\n",
    "# Change 't2m' to another variable name if your file differs\n",
    "var_name = \"t2m\"\n",
    "t2m = ds[var_name]\n",
    "t2m\n"
   ]
  },
  {
   "cell_type": "markdown",
   "id": "6efe1a46",
   "metadata": {},
   "source": [
    "## 5. Extract a single pixel time series (Athens, Greece)"
   ]
  },
  {
   "cell_type": "code",
   "execution_count": null,
   "id": "ebbb03b7",
   "metadata": {},
   "outputs": [],
   "source": [
    "\n",
    "# Athens coordinates\n",
    "lat_athens, lon_athens = 37.98, 23.72\n",
    "\n",
    "t2m_point = t2m.sel(latitude=lat_athens, longitude=lon_athens, method=\"nearest\")\n",
    "print(\"Selected grid point (nearest to Athens):\")\n",
    "print(\"latitude:\", float(t2m_point.latitude.values), \"longitude:\", float(t2m_point.longitude.values))\n",
    "t2m_point\n"
   ]
  },
  {
   "cell_type": "markdown",
   "id": "03874055",
   "metadata": {},
   "source": [
    "## 6. Plot the first timestep as a map"
   ]
  },
  {
   "cell_type": "code",
   "execution_count": null,
   "id": "c16813f9",
   "metadata": {},
   "outputs": [],
   "source": [
    "\n",
    "ax = t2m.isel(time=0).plot()\n",
    "plt.title(\"ERA5 2m Temperature (First timestep)\")\n",
    "plt.show()\n"
   ]
  },
  {
   "cell_type": "markdown",
   "id": "e00537e1",
   "metadata": {},
   "source": [
    "## 7. Plot the time series at Athens"
   ]
  },
  {
   "cell_type": "code",
   "execution_count": null,
   "id": "c5ec1e57",
   "metadata": {},
   "outputs": [],
   "source": [
    "\n",
    "t2m_point.plot(marker=\"o\", linestyle=\"-\")\n",
    "plt.title(\"ERA5 2m Temperature at Athens\")\n",
    "plt.ylabel(\"Temperature (K)\")\n",
    "plt.xlabel(\"Time\")\n",
    "plt.show()\n"
   ]
  },
  {
   "cell_type": "markdown",
   "id": "53bff326",
   "metadata": {},
   "source": [
    "## 8. Quick stats & anomalies (optional)"
   ]
  },
  {
   "cell_type": "code",
   "execution_count": null,
   "id": "b99b5d65",
   "metadata": {},
   "outputs": [],
   "source": [
    "\n",
    "print(\"Mean Temperature (K):\", float(t2m_point.mean()))\n",
    "print(\"Max  Temperature (K):\", float(t2m_point.max()))\n",
    "print(\"Min  Temperature (K):\", float(t2m_point.min()))\n",
    "\n",
    "t2m_anomaly = t2m_point - t2m_point.mean()\n",
    "t2m_anomaly.plot()\n",
    "plt.title(\"Temperature Anomalies at Athens (K)\")\n",
    "plt.xlabel(\"Time\")\n",
    "plt.show()\n"
   ]
  },
  {
   "cell_type": "markdown",
   "id": "6fa6081a",
   "metadata": {},
   "source": [
    "\n",
    "---\n",
    "\n",
    "### ✅ What you accomplished\n",
    "- Opened a NetCDF file with **xarray**\n",
    "- Explored variables, dimensions, and attributes\n",
    "- Examined the **time** dimension\n",
    "- Extracted a **point time series**\n",
    "- Plotted a **map** (first timestep) and a **time series**\n",
    "\n",
    "**Next:** Continue to **Tutorial 02 — Time Series Analysis** for deeper temporal analysis.\n"
   ]
  }
 ],
 "metadata": {
  "kernelspec": {
   "display_name": "Python 3",
   "language": "python",
   "name": "python3"
  },
  "language_info": {
   "name": "python",
   "version": ""
  }
 },
 "nbformat": 4,
 "nbformat_minor": 5
}
